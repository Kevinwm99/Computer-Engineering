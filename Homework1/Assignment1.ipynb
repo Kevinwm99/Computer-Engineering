{
 "metadata": {
  "language_info": {
   "codemirror_mode": {
    "name": "ipython",
    "version": 3
   },
   "file_extension": ".py",
   "mimetype": "text/x-python",
   "name": "python",
   "nbconvert_exporter": "python",
   "pygments_lexer": "ipython3",
   "version": "3.6.12-final"
  },
  "orig_nbformat": 2,
  "kernelspec": {
   "name": "python_defaultSpec_1600913176060",
   "display_name": "Python 3.6.12 64-bit ('phu': conda)"
  }
 },
 "nbformat": 4,
 "nbformat_minor": 2,
 "cells": [
  {
   "source": [
    "# *Assignment 1*    \n",
    "\n",
    "## Name: Vuong Minh Phu\n",
    "## Student ID: 202050798\n",
    "## Class: Computer Engineering\n",
    "## Instructor: Prof. Seung-Hoon Na\n",
    "\n"
   ],
   "cell_type": "markdown",
   "metadata": {}
  },
  {
   "source": [
    "<mark>Problem 3.1</mark>\n",
    "\n",
    "We have $$ p(D|\\theta) = \\theta^{N_1}(1-\\theta)^{N_0} $$ then we apply log to the equation\n",
    "        $$ log(p) = N_{1}log(\\theta)+N_{0}log(1-\\theta) $$\n",
    "in order to maximize this function we need to differentiate it and equal it to zero\n",
    "        $$ \\frac{d(log(p))}{d\\theta}=0 $$\n",
    "        $$ N_{1}\\frac{1}{\\theta}-N_{0}\\frac{1}{1-\\theta}=0 $$\n",
    "        from this we get the result:\n",
    "        $$ \\theta_{MLE}=\\frac{N_{1}}{N_{1}+N_{0}}=\\frac{N_1}{N} $$"
   ],
   "cell_type": "markdown",
   "metadata": {}
  },
  {
   "source": [],
   "cell_type": "markdown",
   "metadata": {}
  },
  {
   "source": [
    "<mark>Problem 3.13</mark>\n",
    "\n",
    "We have: $$ N = N^{old}+N^{new} $$\n",
    "        $$ N_j = N^{old}_{j}+N^{new}_{j} $$\n",
    "\n",
    "Posterior predictive for single trial:\n",
    "\\begin{equation}\n",
    "p(X=j|D,\\alpha)=\\frac{\\alpha_j+N_j}{\\alpha+N}\n",
    "\\tag{3.51}\n",
    "\\end{equation}\n",
    "express the batch of data as a series of single trials, we get:\n",
    "\\begin{equation}\n",
    "p(\\tilde{D}|D,\\alpha)=p(\\tilde{x_1}|D)p(\\tilde{x_2}|{D,\\tilde{x_1}})p(\\tilde{x_3}|{D,\\tilde{x_1},\\tilde{x_2}})\\ldots\n",
    "\\tag{2}\n",
    "\\end{equation}\n",
    "Subsitute (3.51) into (2), we get:\n",
    "\\begin{equation}\n",
    "p(\\tilde{D}|D,\\alpha)=\\frac{1}{\\prod\\limits_{i=0}^{N-1}(\\alpha+N^{old}+i)}\\prod\\limits_{j=1}^k \\prod\\limits_{i=1}^{N_{j}^{new}-1}(\\alpha_j+N_{j}^{old} +i) \\\\\n",
    "= \\frac{\\Gamma(\\alpha+N^{old})}{\\Gamma(\\alpha+N)} \\prod\\limits_{j=1}^k \\frac{\\Gamma(\\alpha_j+N_j)}{\\Gamma(\\alpha_j+N_{j}^{old})}\n",
    "\\end{equation}"
   ],
   "cell_type": "markdown",
   "metadata": {}
  },
  {
   "source": [
    "<mark>Problem 3.15</mark>\n",
    "\n",
    "$$mean = m = \\frac{a}{a+b}$$\n",
    "$$ \\Rightarrow b = a\\frac{1-m}{m} $$\n",
    "$$ var = v = \\frac{ab}{(a+b)^2(a+b+1)} = \\frac{a^2(\\frac{1-m}{m})}{a^2(1+\\frac{1-m}{n})^2(a+b+1)} $$\n",
    "$$ \\Rightarrow (a+b+1) = \\frac{1}{v}(\\frac{1-m}{m})(\\frac{m^2}{m^2+2m(1-m)+(1-m)^2})=\\frac{m(1-m)}{v} $$\n",
    "$$ \\Leftrightarrow a(1+\\frac{1-m}{m})=\\frac{m(1-m)}{v}-1 $$\n",
    "$$ \\Rightarrow a = m(\\frac{m(1-m)}{v}-1) $$\n",
    "$$ \\Rightarrow b = (\\frac{m(1-m)}{v}-1)(1-m) $$\n",
    "For m = 0.7, $$v=0.2^2=0.04$$, we get:\n",
    "$$a = 0.7(\\frac{0.7\\times0.3}{0.04}-1)=2.975$$\n",
    "$$b = (\\frac{0.7\\times0.3}{0.04}-1)(0.3)=1.275$$"
   ],
   "cell_type": "markdown",
   "metadata": {}
  },
  {
   "source": [
    "<mark>Problem 3.21</mark>\n",
    "\n",
    "Expression for mutal information between a feature j and the output is:\n",
    "\\begin{equation}\n",
    "I_j=\\sum\\limits_{x_j}\\sum\\limits_y p(x_j,y)log\\frac{p(x_j,y)}{p(x_j)p(y)}\n",
    "\\tag{3.75}\n",
    "\\end{equation}\n",
    "For binary features this becomes:\n",
    "\\begin{equation}\n",
    "I_j=\\sum\\limits_y(p(x_j=0,y)log\\frac{p(x_j=0,y)}{p(x_j=0)p(y)}+p(x_j=1,y)log\\frac{p(x_j=1,y)}{p(x_j=1)p(y)})\n",
    "\\tag{1}\n",
    "\\end{equation}\n",
    "Using chain rule $$p(x_j=a,y)=p(y)p(x_j=a|y)$$ we can rewrite (1) as follow:\n",
    "\n",
    "\\begin{equation}\n",
    "I_j=\\sum\\limits_y(p(y)p(x_j=0|y)log\\frac{p(x_j=0|y)}{p(x_j=0)}+p(y)p(x_j=1|y)log\\frac{p(x_j=1|y)}{p(x_j=1)})\n",
    "\\tag{2}\n",
    "\\end{equation}\n",
    "From (3.76) we know that:\n",
    "\\begin{equation} \\pi_{c} = p(y=c) \\\\\n",
    "    \\theta_{jc} = p(x_j=1|y=c)\\\\\n",
    "    \\theta_j = p(x_j=1)=\\sum\\limits_c \\pi_c \\theta_{jc} \n",
    "\\end{equation}\n",
    "subsitute these into (2) , we get the desired result.\n",
    "\\begin{equation}\n",
    "I_j = \\sum\\limits_y(\\pi_c(1-\\theta{jc})log\\frac{1-\\theta_{jc}}{1-\\theta_j}+\\pi_c\\theta_{jc}log\\frac{\\theta_{jc}}{\\theta_j})\n",
    "\\end{equation}"
   ],
   "cell_type": "markdown",
   "metadata": {}
  },
  {
   "source": [
    "<mark>Problem 3.16</mark>\n",
    "\n",
    " Setting the beta hyper-parameters   \n",
    "User inputs the mean m and the interval \\[l, u\\] where\n",
    "\n",
    "$$ p(l < \\theta < u) = 0,95 .$$\n",
    "\n",
    "Then, the program determine the hyper parameters of the beta distribution $$ B(\\alpha_1, \\alpha_2)$$\n",
    "\n",
    "We will rewrite $\\alpha_2$ as $\\alpha_1$\n",
    "$$m = \\frac{\\alpha_1}{\\alpha_1 + \\alpha_2}$$\n",
    "$$\\alpha_2 = \\alpha_1(1/m - 1)$$\n",
    "\n",
    "Second, we will minimize the squared difference between the probability mass in the interval \\[l, u\\] and 0.95 to arrive at the desired result:\n",
    "\n",
    "$$\\left(\\int_l^u p(\\theta) - 0.95\\right)^2$$\n",
    "\n",
    "\n",
    "We will create some utility functions to compute the integrand expression \n",
    "$$expr = \\frac{1}{B(\\alpha_1, \\alpha_2)}\\theta^{(\\alpha_1 - 1)}(1 - \\theta)^{(\\alpha_1(\\frac{1}{m} - 1) - 1)}$$\n",
    "\n",
    "and the objective function\n",
    "$$(\\int_l^u expr d\\theta - 0.95)^2$$\n",
    "note that we have to choose the upper bound greater than lower bound, and the upper and lower bounds should be in the range (0,1)"
   ],
   "cell_type": "markdown",
   "metadata": {}
  },
  {
   "cell_type": "code",
   "execution_count": 18,
   "metadata": {
    "tags": []
   },
   "outputs": [],
   "source": [
    "import numpy as np\n",
    "from scipy import special, integrate\n",
    "from scipy.optimize import minimize"
   ]
  },
  {
   "cell_type": "code",
   "execution_count": 20,
   "metadata": {},
   "outputs": [],
   "source": [
    "def expression(theta, alpha1, m):\n",
    "    # Expression for the integrand\n",
    "\n",
    "    beta = special.beta(alpha1, alpha1*(1/m-1))\n",
    "    expr = (theta ** (alpha1 - 1)) * (1 - theta) ** (alpha1 * (1/m - 1) - 1)\n",
    "    expr /= beta\n",
    "    return expr\n",
    "def func_value(alpha1, m, l, u):\n",
    "    # Objective function\n",
    "\n",
    "    integral = (integrate.quad(expression, l, u, args=(alpha1, m)))\n",
    "    final_expression = (integral[0] - 0.95) ** 2\n",
    "    return final_expression\n",
    "# initialize parameters for the function\n",
    "alpha = 0.3\n",
    "m = 0.4\n",
    "u = 0.8\n",
    "l = 0.1"
   ]
  },
  {
   "cell_type": "code",
   "execution_count": 21,
   "metadata": {
    "tags": []
   },
   "outputs": [
    {
     "output_type": "stream",
     "name": "stdout",
     "text": "optimum argument: [2.45852243]\toptimum value: 9.56921267241844e-11\n"
    }
   ],
   "source": [
    "# minimize the function value using scipy module\n",
    "opt_result = minimize(  \n",
    "    func_value, \n",
    "    x0 = 0.25, \n",
    "    args=(m, l, u), \n",
    "    method='L-BFGS-B', \n",
    "    bounds=((0, None),), \n",
    "    options={\n",
    "        'disp': None, \n",
    "        'maxls': 20, \n",
    "        'iprint': -1, \n",
    "        'gtol': 1e-05, \n",
    "        'eps': 1e-08, \n",
    "        'maxiter': 15000, \n",
    "        'ftol': 2.220446049250313e-09, \n",
    "        'maxcor': 10, \n",
    "        'maxfun': 15000}\n",
    ")\n",
    "alpha1_opt = opt_result.x\n",
    "opt_value = func_value(alpha1_opt, m, l, u)\n",
    "print(\"optimum argument: {0}\\toptimum value: {1}\".format(alpha1_opt, opt_value))"
   ]
  },
  {
   "source": [
    "## Calculate the hypermeters"
   ],
   "cell_type": "markdown",
   "metadata": {}
  },
  {
   "cell_type": "code",
   "execution_count": 22,
   "metadata": {
    "tags": []
   },
   "outputs": [
    {
     "output_type": "stream",
     "name": "stdout",
     "text": "α1 = [2.45852243]\nα2 = [3.68778365]\n"
    }
   ],
   "source": [
    "\n",
    "alpha1 = opt_result.x\n",
    "alpha2 = alpha1 * (1/m - 1)\n",
    "alpha = b\"\\xce\\xb1\".decode('utf-8')\n",
    "print(\"{}1 = {}\".format(alpha, alpha1))\n",
    "print(\"{}2 = {}\".format(alpha, alpha2))"
   ]
  }
 ]
}